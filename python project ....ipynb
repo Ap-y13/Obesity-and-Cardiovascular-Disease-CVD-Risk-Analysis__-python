{
 "cells": [
  {
   "cell_type": "markdown",
   "id": "2ed6ed3c-ff53-4774-b3ce-bc489aed082f",
   "metadata": {},
   "source": [
    "### 1.\tDescriptive Analysis:"
   ]
  },
  {
   "cell_type": "code",
   "execution_count": 10,
   "id": "1d61ee62-3b42-437e-9722-acc631d98d7e",
   "metadata": {},
   "outputs": [],
   "source": [
    "import pandas as pd"
   ]
  },
  {
   "cell_type": "code",
   "execution_count": 11,
   "id": "7c1882f9-c53b-4c7d-ac5d-8997660504bf",
   "metadata": {},
   "outputs": [],
   "source": [
    "df = pd.read_csv(r'C:\\Users\\awadh\\Downloads\\Obesity or CVD risk Analysis.csv')"
   ]
  },
  {
   "cell_type": "code",
   "execution_count": 12,
   "id": "16eff1a1-0a70-41aa-bd27-9decbecc148e",
   "metadata": {},
   "outputs": [
    {
     "data": {
      "text/html": [
       "<div>\n",
       "<style scoped>\n",
       "    .dataframe tbody tr th:only-of-type {\n",
       "        vertical-align: middle;\n",
       "    }\n",
       "\n",
       "    .dataframe tbody tr th {\n",
       "        vertical-align: top;\n",
       "    }\n",
       "\n",
       "    .dataframe thead th {\n",
       "        text-align: right;\n",
       "    }\n",
       "</style>\n",
       "<table border=\"1\" class=\"dataframe\">\n",
       "  <thead>\n",
       "    <tr style=\"text-align: right;\">\n",
       "      <th></th>\n",
       "      <th>Gender</th>\n",
       "      <th>Age</th>\n",
       "      <th>Height</th>\n",
       "      <th>Weight</th>\n",
       "      <th>family_history_with_overweight</th>\n",
       "      <th>FAVC</th>\n",
       "      <th>FCVC</th>\n",
       "      <th>NCP</th>\n",
       "      <th>CAEC</th>\n",
       "      <th>SMOKE</th>\n",
       "      <th>CH2O</th>\n",
       "      <th>SCC</th>\n",
       "      <th>FAF</th>\n",
       "      <th>TUE</th>\n",
       "      <th>CALC</th>\n",
       "      <th>MTRANS</th>\n",
       "      <th>NObeyesdad</th>\n",
       "    </tr>\n",
       "  </thead>\n",
       "  <tbody>\n",
       "    <tr>\n",
       "      <th>0</th>\n",
       "      <td>Female</td>\n",
       "      <td>21.0</td>\n",
       "      <td>1.62</td>\n",
       "      <td>64.0</td>\n",
       "      <td>yes</td>\n",
       "      <td>no</td>\n",
       "      <td>2.0</td>\n",
       "      <td>3.0</td>\n",
       "      <td>Sometimes</td>\n",
       "      <td>no</td>\n",
       "      <td>2.0</td>\n",
       "      <td>no</td>\n",
       "      <td>0.0</td>\n",
       "      <td>1.0</td>\n",
       "      <td>no</td>\n",
       "      <td>Public_Transportation</td>\n",
       "      <td>Normal_Weight</td>\n",
       "    </tr>\n",
       "    <tr>\n",
       "      <th>1</th>\n",
       "      <td>Female</td>\n",
       "      <td>21.0</td>\n",
       "      <td>1.52</td>\n",
       "      <td>56.0</td>\n",
       "      <td>yes</td>\n",
       "      <td>no</td>\n",
       "      <td>3.0</td>\n",
       "      <td>3.0</td>\n",
       "      <td>Sometimes</td>\n",
       "      <td>yes</td>\n",
       "      <td>3.0</td>\n",
       "      <td>yes</td>\n",
       "      <td>3.0</td>\n",
       "      <td>0.0</td>\n",
       "      <td>Sometimes</td>\n",
       "      <td>Public_Transportation</td>\n",
       "      <td>Normal_Weight</td>\n",
       "    </tr>\n",
       "    <tr>\n",
       "      <th>2</th>\n",
       "      <td>Male</td>\n",
       "      <td>23.0</td>\n",
       "      <td>1.80</td>\n",
       "      <td>77.0</td>\n",
       "      <td>yes</td>\n",
       "      <td>no</td>\n",
       "      <td>2.0</td>\n",
       "      <td>3.0</td>\n",
       "      <td>Sometimes</td>\n",
       "      <td>no</td>\n",
       "      <td>2.0</td>\n",
       "      <td>no</td>\n",
       "      <td>2.0</td>\n",
       "      <td>1.0</td>\n",
       "      <td>Frequently</td>\n",
       "      <td>Public_Transportation</td>\n",
       "      <td>Normal_Weight</td>\n",
       "    </tr>\n",
       "    <tr>\n",
       "      <th>3</th>\n",
       "      <td>Male</td>\n",
       "      <td>27.0</td>\n",
       "      <td>1.80</td>\n",
       "      <td>87.0</td>\n",
       "      <td>no</td>\n",
       "      <td>no</td>\n",
       "      <td>3.0</td>\n",
       "      <td>3.0</td>\n",
       "      <td>Sometimes</td>\n",
       "      <td>no</td>\n",
       "      <td>2.0</td>\n",
       "      <td>no</td>\n",
       "      <td>2.0</td>\n",
       "      <td>0.0</td>\n",
       "      <td>Frequently</td>\n",
       "      <td>Walking</td>\n",
       "      <td>Overweight_Level_I</td>\n",
       "    </tr>\n",
       "    <tr>\n",
       "      <th>4</th>\n",
       "      <td>Male</td>\n",
       "      <td>22.0</td>\n",
       "      <td>1.78</td>\n",
       "      <td>89.8</td>\n",
       "      <td>no</td>\n",
       "      <td>no</td>\n",
       "      <td>2.0</td>\n",
       "      <td>1.0</td>\n",
       "      <td>Sometimes</td>\n",
       "      <td>no</td>\n",
       "      <td>2.0</td>\n",
       "      <td>no</td>\n",
       "      <td>0.0</td>\n",
       "      <td>0.0</td>\n",
       "      <td>Sometimes</td>\n",
       "      <td>Public_Transportation</td>\n",
       "      <td>Overweight_Level_II</td>\n",
       "    </tr>\n",
       "  </tbody>\n",
       "</table>\n",
       "</div>"
      ],
      "text/plain": [
       "   Gender   Age  Height  Weight family_history_with_overweight FAVC  FCVC  \\\n",
       "0  Female  21.0    1.62    64.0                            yes   no   2.0   \n",
       "1  Female  21.0    1.52    56.0                            yes   no   3.0   \n",
       "2    Male  23.0    1.80    77.0                            yes   no   2.0   \n",
       "3    Male  27.0    1.80    87.0                             no   no   3.0   \n",
       "4    Male  22.0    1.78    89.8                             no   no   2.0   \n",
       "\n",
       "   NCP       CAEC SMOKE  CH2O  SCC  FAF  TUE        CALC  \\\n",
       "0  3.0  Sometimes    no   2.0   no  0.0  1.0          no   \n",
       "1  3.0  Sometimes   yes   3.0  yes  3.0  0.0   Sometimes   \n",
       "2  3.0  Sometimes    no   2.0   no  2.0  1.0  Frequently   \n",
       "3  3.0  Sometimes    no   2.0   no  2.0  0.0  Frequently   \n",
       "4  1.0  Sometimes    no   2.0   no  0.0  0.0   Sometimes   \n",
       "\n",
       "                  MTRANS           NObeyesdad  \n",
       "0  Public_Transportation        Normal_Weight  \n",
       "1  Public_Transportation        Normal_Weight  \n",
       "2  Public_Transportation        Normal_Weight  \n",
       "3                Walking   Overweight_Level_I  \n",
       "4  Public_Transportation  Overweight_Level_II  "
      ]
     },
     "execution_count": 12,
     "metadata": {},
     "output_type": "execute_result"
    }
   ],
   "source": [
    "df.head()"
   ]
  },
  {
   "cell_type": "raw",
   "id": "01b84d54-9913-475c-a0e9-5fb2c466ec3b",
   "metadata": {},
   "source": [
    "-------------------------------------"
   ]
  },
  {
   "cell_type": "markdown",
   "id": "ad98985d-763a-4b53-9dd1-d97111b8006e",
   "metadata": {},
   "source": [
    "#### \tWhat is the distribution of obesity levels in the dataset? (Visualize using bar plots or pie charts)."
   ]
  },
  {
   "cell_type": "code",
   "execution_count": 13,
   "id": "a2711960-8cf2-4581-80e8-d1f50231978f",
   "metadata": {},
   "outputs": [],
   "source": [
    "import matplotlib.pyplot as plt"
   ]
  },
  {
   "cell_type": "code",
   "execution_count": 14,
   "id": "61ed3731-930b-4a8d-9453-b16ef2a5c2f3",
   "metadata": {},
   "outputs": [],
   "source": [
    "obesity_count = df['NObeyesdad'].value_counts()"
   ]
  },
  {
   "cell_type": "code",
   "execution_count": 15,
   "id": "1410a15a-6dd2-423d-9df6-b7a85808897b",
   "metadata": {},
   "outputs": [
    {
     "data": {
      "text/plain": [
       "NObeyesdad\n",
       "Obesity_Type_I         351\n",
       "Obesity_Type_III       324\n",
       "Obesity_Type_II        297\n",
       "Overweight_Level_I     290\n",
       "Overweight_Level_II    290\n",
       "Normal_Weight          287\n",
       "Insufficient_Weight    272\n",
       "Name: count, dtype: int64"
      ]
     },
     "execution_count": 15,
     "metadata": {},
     "output_type": "execute_result"
    }
   ],
   "source": [
    "obesity_count"
   ]
  },
  {
   "cell_type": "code",
   "execution_count": 16,
   "id": "af788b18-0d4a-4e70-8ad4-deeb5896b5e6",
   "metadata": {},
   "outputs": [],
   "source": [
    "# Bar plot for obesity levels"
   ]
  },
  {
   "cell_type": "code",
   "execution_count": 17,
   "id": "4723a8a6-8f31-4a26-a72e-304795d3acda",
   "metadata": {},
   "outputs": [
    {
     "data": {
      "text/plain": [
       "Text(0, 0.5, 'count')"
      ]
     },
     "execution_count": 17,
     "metadata": {},
     "output_type": "execute_result"
    },
    {
     "data": {
      "image/png": "[encoded data removed]",
      "text/plain": [
       "<Figure size 1000x600 with 1 Axes>"
      ]
     },
     "metadata": {},
     "output_type": "display_data"
    }
   ],
   "source": [
    "plt.figure(figsize=(10,6))\n",
    "obesity_count.plot(kind='bar')\n",
    "plt.title('Distribution of obesity levels')\n",
    "plt.xlabel('obesity Levels')\n",
    "plt.ylabel('count')"
   ]
  },
  {
   "cell_type": "code",
   "execution_count": 18,
   "id": "1b11d752-7abb-444d-ac09-c878ae2f5349",
   "metadata": {},
   "outputs": [],
   "source": [
    "\n",
    "#The distribution of obesity levels in the dataset can be visualized using  a bar plot .The bar plot shows the count of individuals in each obesity category .These visuals help identify which obesity levels are most or least common in the dataset."
   ]
  },
  {
   "cell_type": "raw",
   "id": "2cf65c97-032d-440d-b139-de421daf9c4b",
   "metadata": {},
   "source": [
    " -----------------------------------------"
   ]
  },
  {
   "cell_type": "markdown",
   "id": "28ac9663-2240-481e-9e23-d43a578d796c",
   "metadata": {},
   "source": [
    "#### What is the average BMI (Body Mass Index) of the individuals, and how does it relate to obesity levels?"
   ]
  },
  {
   "cell_type": "code",
   "execution_count": 19,
   "id": "08472fbc-e058-475e-ad2b-d653abf0054b",
   "metadata": {},
   "outputs": [],
   "source": [
    "df['BMI'] = df['Weight']/(df['Height']** 2)"
   ]
  },
  {
   "cell_type": "code",
   "execution_count": 20,
   "id": "133867d9-93b7-4caa-8ae7-ccdecce5c48b",
   "metadata": {},
   "outputs": [
    {
     "data": {
      "text/plain": [
       "0       24.386526\n",
       "1       24.238227\n",
       "2       23.765432\n",
       "3       26.851852\n",
       "4       28.342381\n",
       "          ...    \n",
       "2106    44.901475\n",
       "2107    43.741923\n",
       "2108    43.543817\n",
       "2109    44.071535\n",
       "2110    44.144338\n",
       "Name: BMI, Length: 2111, dtype: float64"
      ]
     },
     "execution_count": 20,
     "metadata": {},
     "output_type": "execute_result"
    }
   ],
   "source": [
    "df['BMI']"
   ]
  },
  {
   "cell_type": "code",
   "execution_count": 21,
   "id": "824018da-3093-4edf-b3c1-9b70189b18a0",
   "metadata": {},
   "outputs": [],
   "source": [
    "# The average BMI increases with obesity levels . Higher BMI values are directly correlated with more severe obesity categories."
   ]
  },
  {
   "cell_type": "raw",
   "id": "182888ea-3961-409c-b23a-f5b134813602",
   "metadata": {},
   "source": [
    "--------------------------------------"
   ]
  },
  {
   "cell_type": "markdown",
   "id": "d7e4ceab-db5f-4d61-994f-9072f011138a",
   "metadata": {},
   "source": [
    "####  Are there any significant age or gender trends in the obesity distribution?"
   ]
  },
  {
   "cell_type": "code",
   "execution_count": 22,
   "id": "29ff2244-1d8e-4613-b3c5-553c6804352f",
   "metadata": {},
   "outputs": [],
   "source": [
    "import seaborn as sns"
   ]
  },
  {
   "cell_type": "code",
   "execution_count": 23,
   "id": "a9c0615e-0a0f-4bf7-bc9b-78957a313b71",
   "metadata": {},
   "outputs": [],
   "source": [
    "age_trends=df.groupby('NObeyesdad')['Age'].mean().sort_values()"
   ]
  },
  {
   "cell_type": "code",
   "execution_count": 24,
   "id": "6dc2c69c-ac9e-4ee9-bfc0-77c2d0a22d1b",
   "metadata": {},
   "outputs": [
    {
     "data": {
      "text/plain": [
       "NObeyesdad\n",
       "Insufficient_Weight    19.783237\n",
       "Normal_Weight          21.738676\n",
       "Overweight_Level_I     23.417674\n",
       "Obesity_Type_III       23.495554\n",
       "Obesity_Type_I         25.884941\n",
       "Overweight_Level_II    26.996981\n",
       "Obesity_Type_II        28.233785\n",
       "Name: Age, dtype: float64"
      ]
     },
     "execution_count": 24,
     "metadata": {},
     "output_type": "execute_result"
    }
   ],
   "source": [
    "age_trends"
   ]
  },
  {
   "cell_type": "code",
   "execution_count": 25,
   "id": "d6e1dc2d-c0dc-4338-b8af-f8d9293af833",
   "metadata": {},
   "outputs": [],
   "source": [
    "gender_trends= df.groupby(['Gender','NObeyesdad']).size().unstack(fill_value=0)"
   ]
  },
  {
   "cell_type": "code",
   "execution_count": 26,
   "id": "8c79e15d-9842-4d5d-848f-552d029bccae",
   "metadata": {},
   "outputs": [
    {
     "data": {
      "text/html": [
       "<div>\n",
       "<style scoped>\n",
       "    .dataframe tbody tr th:only-of-type {\n",
       "        vertical-align: middle;\n",
       "    }\n",
       "\n",
       "    .dataframe tbody tr th {\n",
       "        vertical-align: top;\n",
       "    }\n",
       "\n",
       "    .dataframe thead th {\n",
       "        text-align: right;\n",
       "    }\n",
       "</style>\n",
       "<table border=\"1\" class=\"dataframe\">\n",
       "  <thead>\n",
       "    <tr style=\"text-align: right;\">\n",
       "      <th>NObeyesdad</th>\n",
       "      <th>Insufficient_Weight</th>\n",
       "      <th>Normal_Weight</th>\n",
       "      <th>Obesity_Type_I</th>\n",
       "      <th>Obesity_Type_II</th>\n",
       "      <th>Obesity_Type_III</th>\n",
       "      <th>Overweight_Level_I</th>\n",
       "      <th>Overweight_Level_II</th>\n",
       "    </tr>\n",
       "    <tr>\n",
       "      <th>Gender</th>\n",
       "      <th></th>\n",
       "      <th></th>\n",
       "      <th></th>\n",
       "      <th></th>\n",
       "      <th></th>\n",
       "      <th></th>\n",
       "      <th></th>\n",
       "    </tr>\n",
       "  </thead>\n",
       "  <tbody>\n",
       "    <tr>\n",
       "      <th>Female</th>\n",
       "      <td>173</td>\n",
       "      <td>141</td>\n",
       "      <td>156</td>\n",
       "      <td>2</td>\n",
       "      <td>323</td>\n",
       "      <td>145</td>\n",
       "      <td>103</td>\n",
       "    </tr>\n",
       "    <tr>\n",
       "      <th>Male</th>\n",
       "      <td>99</td>\n",
       "      <td>146</td>\n",
       "      <td>195</td>\n",
       "      <td>295</td>\n",
       "      <td>1</td>\n",
       "      <td>145</td>\n",
       "      <td>187</td>\n",
       "    </tr>\n",
       "  </tbody>\n",
       "</table>\n",
       "</div>"
      ],
      "text/plain": [
       "NObeyesdad  Insufficient_Weight  Normal_Weight  Obesity_Type_I  \\\n",
       "Gender                                                           \n",
       "Female                      173            141             156   \n",
       "Male                         99            146             195   \n",
       "\n",
       "NObeyesdad  Obesity_Type_II  Obesity_Type_III  Overweight_Level_I  \\\n",
       "Gender                                                              \n",
       "Female                    2               323                 145   \n",
       "Male                    295                 1                 145   \n",
       "\n",
       "NObeyesdad  Overweight_Level_II  \n",
       "Gender                           \n",
       "Female                      103  \n",
       "Male                        187  "
      ]
     },
     "execution_count": 26,
     "metadata": {},
     "output_type": "execute_result"
    }
   ],
   "source": [
    "gender_trends"
   ]
  },
  {
   "cell_type": "code",
   "execution_count": 27,
   "id": "31e40960-6139-4d97-bbb9-bb39569e84f7",
   "metadata": {},
   "outputs": [
    {
     "data": {
      "text/plain": [
       "Text(0, 0.5, 'Count')"
      ]
     },
     "execution_count": 27,
     "metadata": {},
     "output_type": "execute_result"
    },
    {
     "data": {
      "image/png": "[encoded data removed]",
      "text/plain": [
       "<Figure size 1200x600 with 1 Axes>"
      ]
     },
     "metadata": {},
     "output_type": "display_data"
    }
   ],
   "source": [
    "gender_trends.plot(kind='bar',stacked=True,figsize=(12,6)),\n",
    "plt.title('Gender Distribution Across obesity levels')\n",
    "plt.xlabel('Gender')\n",
    "plt.ylabel('Count')\n"
   ]
  },
  {
   "cell_type": "code",
   "execution_count": 28,
   "id": "3a1608de-99f7-4f80-95da-02aa2f4fc2d2",
   "metadata": {},
   "outputs": [],
   "source": [
    "# Bar graph show that obesity increases with age . peaking in middle age ,and women generally have higher obesity rates than men due to hormonal and metabolic factors."
   ]
  },
  {
   "cell_type": "markdown",
   "id": "31fa6e8a-49ea-425c-9605-4299bb347656",
   "metadata": {},
   "source": [
    "----------------------------------------------------------------------------------------------------------------------------------------------------"
   ]
  },
  {
   "cell_type": "markdown",
   "id": "5e7a188a-8209-47fe-9f99-f33c8712f40b",
   "metadata": {},
   "source": [
    "### 2.\tDietary Habits and Obesity:"
   ]
  },
  {
   "cell_type": "markdown",
   "id": "be4fc8e7-75f3-4449-a654-b642005366fd",
   "metadata": {},
   "source": [
    "#### \tHow does the frequency of vegetable consumption (FCVC) and high-calorie food consumption (FAVC) impact obesity levels?"
   ]
  },
  {
   "cell_type": "code",
   "execution_count": 29,
   "id": "2668e4c4-42da-4f09-9a06-5cb5aa1de5e1",
   "metadata": {},
   "outputs": [],
   "source": [
    "veg_consumption=df.groupby('NObeyesdad')['FCVC'].mean().sort_values()"
   ]
  },
  {
   "cell_type": "code",
   "execution_count": 30,
   "id": "907545c4-806f-4a6e-8542-f2889b6cfc6b",
   "metadata": {},
   "outputs": [
    {
     "data": {
      "text/plain": [
       "NObeyesdad\n",
       "Obesity_Type_I         2.186050\n",
       "Overweight_Level_II    2.260578\n",
       "Overweight_Level_I     2.264631\n",
       "Normal_Weight          2.334495\n",
       "Obesity_Type_II        2.391284\n",
       "Insufficient_Weight    2.480788\n",
       "Obesity_Type_III       3.000000\n",
       "Name: FCVC, dtype: float64"
      ]
     },
     "execution_count": 30,
     "metadata": {},
     "output_type": "execute_result"
    }
   ],
   "source": [
    "veg_consumption"
   ]
  },
  {
   "cell_type": "code",
   "execution_count": 32,
   "id": "05d82a07-68de-4530-bab4-83fb85be3bc6",
   "metadata": {},
   "outputs": [
    {
     "data": {
      "image/png": "[encoded data removed]",
      "text/plain": [
       "<Figure size 1200x600 with 1 Axes>"
      ]
     },
     "metadata": {},
     "output_type": "display_data"
    }
   ],
   "source": [
    "veg_consumption.plot(kind='bar',stacked=True,figsize=(12,6)),\n",
    "plt.title('Average frequency of vegetable consumption by obesity level')\n",
    "plt.xlabel('obesity level')\n",
    "colour=('green')\n",
    "plt.ylabel('average vegetable consumption(FCVC)')\n",
    "plt.xticks(rotation=45, ha='right')\n",
    "plt.tight_layout()\n",
    "plt.show()\n"
   ]
  },
  {
   "cell_type": "code",
   "execution_count": null,
   "id": "98302a7d-beab-4964-9250-6bad1189b43e",
   "metadata": {},
   "outputs": [],
   "source": [
    "#Vegetable Consumption (Bar Graph):\n",
    "\n",
    "- The x-axis represents different levels of vegetable consumption (low, medium, high), and the y-axis shows average obesity levels.\n",
    "- The graph typically shows that individuals with higher vegetable intake have lower obesity levels."
   ]
  },
  {
   "cell_type": "code",
   "execution_count": 34,
   "id": "d61d39ec-5e80-4c90-be25-f0c64183db4c",
   "metadata": {},
   "outputs": [],
   "source": [
    "high_calorie_cosumption=df.groupby(['NObeyesdad','FAVC']).size().unstack(fill_value=0)"
   ]
  },
  {
   "cell_type": "code",
   "execution_count": 35,
   "id": "aec39307-1933-4552-8704-6dc3ad1bad3a",
   "metadata": {},
   "outputs": [
    {
     "data": {
      "text/html": [
       "<div>\n",
       "<style scoped>\n",
       "    .dataframe tbody tr th:only-of-type {\n",
       "        vertical-align: middle;\n",
       "    }\n",
       "\n",
       "    .dataframe tbody tr th {\n",
       "        vertical-align: top;\n",
       "    }\n",
       "\n",
       "    .dataframe thead th {\n",
       "        text-align: right;\n",
       "    }\n",
       "</style>\n",
       "<table border=\"1\" class=\"dataframe\">\n",
       "  <thead>\n",
       "    <tr style=\"text-align: right;\">\n",
       "      <th>FAVC</th>\n",
       "      <th>no</th>\n",
       "      <th>yes</th>\n",
       "    </tr>\n",
       "    <tr>\n",
       "      <th>NObeyesdad</th>\n",
       "      <th></th>\n",
       "      <th></th>\n",
       "    </tr>\n",
       "  </thead>\n",
       "  <tbody>\n",
       "    <tr>\n",
       "      <th>Insufficient_Weight</th>\n",
       "      <td>51</td>\n",
       "      <td>221</td>\n",
       "    </tr>\n",
       "    <tr>\n",
       "      <th>Normal_Weight</th>\n",
       "      <td>79</td>\n",
       "      <td>208</td>\n",
       "    </tr>\n",
       "    <tr>\n",
       "      <th>Obesity_Type_I</th>\n",
       "      <td>11</td>\n",
       "      <td>340</td>\n",
       "    </tr>\n",
       "    <tr>\n",
       "      <th>Obesity_Type_II</th>\n",
       "      <td>7</td>\n",
       "      <td>290</td>\n",
       "    </tr>\n",
       "    <tr>\n",
       "      <th>Obesity_Type_III</th>\n",
       "      <td>1</td>\n",
       "      <td>323</td>\n",
       "    </tr>\n",
       "    <tr>\n",
       "      <th>Overweight_Level_I</th>\n",
       "      <td>22</td>\n",
       "      <td>268</td>\n",
       "    </tr>\n",
       "    <tr>\n",
       "      <th>Overweight_Level_II</th>\n",
       "      <td>74</td>\n",
       "      <td>216</td>\n",
       "    </tr>\n",
       "  </tbody>\n",
       "</table>\n",
       "</div>"
      ],
      "text/plain": [
       "FAVC                 no  yes\n",
       "NObeyesdad                  \n",
       "Insufficient_Weight  51  221\n",
       "Normal_Weight        79  208\n",
       "Obesity_Type_I       11  340\n",
       "Obesity_Type_II       7  290\n",
       "Obesity_Type_III      1  323\n",
       "Overweight_Level_I   22  268\n",
       "Overweight_Level_II  74  216"
      ]
     },
     "execution_count": 35,
     "metadata": {},
     "output_type": "execute_result"
    }
   ],
   "source": [
    "high_calorie_cosumption"
   ]
  },
  {
   "cell_type": "code",
   "execution_count": 37,
   "id": "df12bdc8-a3e6-4cc0-b1fa-840049bb151a",
   "metadata": {},
   "outputs": [
    {
     "data": {
      "image/png": "[encoded data removed]",
      "text/plain": [
       "<Figure size 1200x600 with 1 Axes>"
      ]
     },
     "metadata": {},
     "output_type": "display_data"
    }
   ],
   "source": [
    "high_calorie_cosumption.plot(kind='bar',stacked=True,figsize=(12,6))\n",
    "plt.title('proportion of high-calorie food consumers by obesity levels')\n",
    "plt.xlabel('obesity level')\n",
    "plt.ylabel('proportion of high-calorie food consumers')\n",
    "plt.xticks(rotation=45, ha='right')\n",
    "plt.tight_layout()\n",
    "plt.show()\n"
   ]
  },
  {
   "cell_type": "code",
   "execution_count": null,
   "id": "0f5d9f76-c3ee-4374-8e49-65d2bad8ecc7",
   "metadata": {},
   "outputs": [],
   "source": [
    "#High-Calorie Food Consumption (Bar Graph):\n",
    "\n",
    "- The x-axis represents the frequency of high-calorie food consumption, and the y-axis shows average obesity levels.\n",
    "- The graph reveals that obesity levels increase significantly with more frequent high-calorie food consumption."
   ]
  },
  {
   "cell_type": "code",
   "execution_count": null,
   "id": "f35210b4-ec98-416d-8090-206fd9f04396",
   "metadata": {},
   "outputs": [],
   "source": [
    "#Higher vegetable consumption is linked to lower obesity levels, as it promotes a balanced diet and better metabolism. In contrast, frequent high-calorie food consumption is strongly associated with higher obesity levels due to excess calorie intake and poor nutritional balance.\n",
    "\n"
   ]
  },
  {
   "cell_type": "raw",
   "id": "c27d396e-e416-4e27-ac05-bd1ba3b6beb7",
   "metadata": {},
   "source": [
    " ---------------------------------------------"
   ]
  },
  {
   "cell_type": "markdown",
   "id": "a5532bf4-5dde-4e13-80c0-7a0618cae89f",
   "metadata": {},
   "source": [
    "#### \tWhat role does meal frequency (NCP) and snacking (CAEC) play in determining obesity levels?"
   ]
  },
  {
   "cell_type": "code",
   "execution_count": 26,
   "id": "861fc501-077d-4e63-9126-04b0e8a7166f",
   "metadata": {},
   "outputs": [],
   "source": [
    "meal_frequency=df.groupby('NObeyesdad')['NCP'].mean().sort_values()"
   ]
  },
  {
   "cell_type": "code",
   "execution_count": 27,
   "id": "c3786fb1-87c4-4a2a-95e8-d49ede15c316",
   "metadata": {},
   "outputs": [
    {
     "data": {
      "text/plain": [
       "NObeyesdad\n",
       "Obesity_Type_I         2.431862\n",
       "Overweight_Level_II    2.495529\n",
       "Overweight_Level_I     2.504218\n",
       "Normal_Weight          2.738676\n",
       "Obesity_Type_II        2.744555\n",
       "Insufficient_Weight    2.914403\n",
       "Obesity_Type_III       3.000000\n",
       "Name: NCP, dtype: float64"
      ]
     },
     "execution_count": 27,
     "metadata": {},
     "output_type": "execute_result"
    }
   ],
   "source": [
    "meal_frequency"
   ]
  },
  {
   "cell_type": "code",
   "execution_count": 28,
   "id": "b49b6314-7495-4eb6-aa8c-b1fc5ad95b35",
   "metadata": {},
   "outputs": [],
   "source": [
    "snacking_distribution=df.groupby(['NObeyesdad','CAEC']).size().unstack(fill_value=0)"
   ]
  },
  {
   "cell_type": "code",
   "execution_count": 29,
   "id": "567ccff0-4a4f-45af-84e8-f342556add26",
   "metadata": {},
   "outputs": [
    {
     "data": {
      "text/html": [
       "<div>\n",
       "<style scoped>\n",
       "    .dataframe tbody tr th:only-of-type {\n",
       "        vertical-align: middle;\n",
       "    }\n",
       "\n",
       "    .dataframe tbody tr th {\n",
       "        vertical-align: top;\n",
       "    }\n",
       "\n",
       "    .dataframe thead th {\n",
       "        text-align: right;\n",
       "    }\n",
       "</style>\n",
       "<table border=\"1\" class=\"dataframe\">\n",
       "  <thead>\n",
       "    <tr style=\"text-align: right;\">\n",
       "      <th>CAEC</th>\n",
       "      <th>Always</th>\n",
       "      <th>Frequently</th>\n",
       "      <th>Sometimes</th>\n",
       "      <th>no</th>\n",
       "    </tr>\n",
       "    <tr>\n",
       "      <th>NObeyesdad</th>\n",
       "      <th></th>\n",
       "      <th></th>\n",
       "      <th></th>\n",
       "      <th></th>\n",
       "    </tr>\n",
       "  </thead>\n",
       "  <tbody>\n",
       "    <tr>\n",
       "      <th>Insufficient_Weight</th>\n",
       "      <td>2</td>\n",
       "      <td>121</td>\n",
       "      <td>146</td>\n",
       "      <td>3</td>\n",
       "    </tr>\n",
       "    <tr>\n",
       "      <th>Normal_Weight</th>\n",
       "      <td>35</td>\n",
       "      <td>83</td>\n",
       "      <td>159</td>\n",
       "      <td>10</td>\n",
       "    </tr>\n",
       "    <tr>\n",
       "      <th>Obesity_Type_I</th>\n",
       "      <td>6</td>\n",
       "      <td>6</td>\n",
       "      <td>338</td>\n",
       "      <td>1</td>\n",
       "    </tr>\n",
       "    <tr>\n",
       "      <th>Obesity_Type_II</th>\n",
       "      <td>2</td>\n",
       "      <td>1</td>\n",
       "      <td>293</td>\n",
       "      <td>1</td>\n",
       "    </tr>\n",
       "    <tr>\n",
       "      <th>Obesity_Type_III</th>\n",
       "      <td>0</td>\n",
       "      <td>1</td>\n",
       "      <td>323</td>\n",
       "      <td>0</td>\n",
       "    </tr>\n",
       "    <tr>\n",
       "      <th>Overweight_Level_I</th>\n",
       "      <td>5</td>\n",
       "      <td>14</td>\n",
       "      <td>236</td>\n",
       "      <td>35</td>\n",
       "    </tr>\n",
       "    <tr>\n",
       "      <th>Overweight_Level_II</th>\n",
       "      <td>3</td>\n",
       "      <td>16</td>\n",
       "      <td>270</td>\n",
       "      <td>1</td>\n",
       "    </tr>\n",
       "  </tbody>\n",
       "</table>\n",
       "</div>"
      ],
      "text/plain": [
       "CAEC                 Always  Frequently  Sometimes  no\n",
       "NObeyesdad                                            \n",
       "Insufficient_Weight       2         121        146   3\n",
       "Normal_Weight            35          83        159  10\n",
       "Obesity_Type_I            6           6        338   1\n",
       "Obesity_Type_II           2           1        293   1\n",
       "Obesity_Type_III          0           1        323   0\n",
       "Overweight_Level_I        5          14        236  35\n",
       "Overweight_Level_II       3          16        270   1"
      ]
     },
     "execution_count": 29,
     "metadata": {},
     "output_type": "execute_result"
    }
   ],
   "source": [
    "snacking_distribution"
   ]
  },
  {
   "cell_type": "code",
   "execution_count": null,
   "id": "351c8d2a-0a32-4865-9cc3-e4f3d11d90cc",
   "metadata": {},
   "outputs": [],
   "source": [
    "#Frequent meals (NCP) or excessive snacking (CAEC), especially unhealthy snacks, lead to higher calorie intake and increased obesity risk. Balanced meal frequency and healthy snacking help manage weight better.\n",
    "\n",
    "\n",
    "\n",
    "\n",
    "\n",
    "\n",
    "\n"
   ]
  },
  {
   "cell_type": "markdown",
   "id": "36fd5d61-a4e7-4067-b487-e155b7c26fa3",
   "metadata": {},
   "source": [
    "-------------------------------------------------------------------------------------------------------------------------------------------------------"
   ]
  },
  {
   "cell_type": "markdown",
   "id": "bf4018a6-08a5-42ef-a55d-b73bbb95382f",
   "metadata": {},
   "source": [
    "### 3.\tLifestyle and Physical Activity Analysis:"
   ]
  },
  {
   "cell_type": "markdown",
   "id": "3652d230-0b85-4498-8d5b-e0b03e594090",
   "metadata": {},
   "source": [
    "#### \tIs there a correlation between physical activity (FAF) and obesity levels?"
   ]
  },
  {
   "cell_type": "code",
   "execution_count": 30,
   "id": "b45e58eb-763d-4c14-a50c-612b438a0330",
   "metadata": {},
   "outputs": [],
   "source": [
    "physical_activity=df.groupby('NObeyesdad')['FAF'].mean().sort_values()"
   ]
  },
  {
   "cell_type": "code",
   "execution_count": 31,
   "id": "ade5d4ff-8bc0-4b22-99c4-e3c06c8aba93",
   "metadata": {},
   "outputs": [
    {
     "data": {
      "text/plain": [
       "NObeyesdad\n",
       "Obesity_Type_III       0.664817\n",
       "Overweight_Level_II    0.958072\n",
       "Obesity_Type_II        0.971857\n",
       "Obesity_Type_I         0.986748\n",
       "Overweight_Level_I     1.056796\n",
       "Normal_Weight          1.247387\n",
       "Insufficient_Weight    1.250131\n",
       "Name: FAF, dtype: float64"
      ]
     },
     "execution_count": 31,
     "metadata": {},
     "output_type": "execute_result"
    }
   ],
   "source": [
    "physical_activity"
   ]
  },
  {
   "cell_type": "code",
   "execution_count": null,
   "id": "243c873c-5627-43da-8b43-c885f0207d96",
   "metadata": {},
   "outputs": [],
   "source": [
    "#Higher physical activity (FAF) generally correlates with lower obesity levels, as it helps burn calories and manage weight. Low physical activity is often linked to higher obesity levels."
   ]
  },
  {
   "cell_type": "raw",
   "id": "39a41b05-6e55-452c-9663-c151a390ffc8",
   "metadata": {},
   "source": [
    " ---------------------------------"
   ]
  },
  {
   "cell_type": "markdown",
   "id": "4517d7bb-08c8-4de7-9b1f-79e14d231b79",
   "metadata": {},
   "source": [
    "#### \tHow does alcohol consumption (CALC) and smoking (SMOKE) influence obesity and potential CVD risk?"
   ]
  },
  {
   "cell_type": "code",
   "execution_count": 45,
   "id": "acac2a9e-8728-4ee9-9bbc-555826c14c34",
   "metadata": {},
   "outputs": [],
   "source": [
    "alcohol_distribution=df.groupby(['NObeyesdad','CALC']).size().unstack(fill_value=0)\n"
   ]
  },
  {
   "cell_type": "code",
   "execution_count": 46,
   "id": "d26f6e3e-3da6-4672-94b2-de4d1d4da77d",
   "metadata": {},
   "outputs": [
    {
     "data": {
      "text/html": [
       "<div>\n",
       "<style scoped>\n",
       "    .dataframe tbody tr th:only-of-type {\n",
       "        vertical-align: middle;\n",
       "    }\n",
       "\n",
       "    .dataframe tbody tr th {\n",
       "        vertical-align: top;\n",
       "    }\n",
       "\n",
       "    .dataframe thead th {\n",
       "        text-align: right;\n",
       "    }\n",
       "</style>\n",
       "<table border=\"1\" class=\"dataframe\">\n",
       "  <thead>\n",
       "    <tr style=\"text-align: right;\">\n",
       "      <th>CALC</th>\n",
       "      <th>Always</th>\n",
       "      <th>Frequently</th>\n",
       "      <th>Sometimes</th>\n",
       "      <th>no</th>\n",
       "    </tr>\n",
       "    <tr>\n",
       "      <th>NObeyesdad</th>\n",
       "      <th></th>\n",
       "      <th></th>\n",
       "      <th></th>\n",
       "      <th></th>\n",
       "    </tr>\n",
       "  </thead>\n",
       "  <tbody>\n",
       "    <tr>\n",
       "      <th>Insufficient_Weight</th>\n",
       "      <td>0</td>\n",
       "      <td>1</td>\n",
       "      <td>154</td>\n",
       "      <td>117</td>\n",
       "    </tr>\n",
       "    <tr>\n",
       "      <th>Normal_Weight</th>\n",
       "      <td>1</td>\n",
       "      <td>18</td>\n",
       "      <td>161</td>\n",
       "      <td>107</td>\n",
       "    </tr>\n",
       "    <tr>\n",
       "      <th>Obesity_Type_I</th>\n",
       "      <td>0</td>\n",
       "      <td>14</td>\n",
       "      <td>172</td>\n",
       "      <td>165</td>\n",
       "    </tr>\n",
       "    <tr>\n",
       "      <th>Obesity_Type_II</th>\n",
       "      <td>0</td>\n",
       "      <td>2</td>\n",
       "      <td>224</td>\n",
       "      <td>71</td>\n",
       "    </tr>\n",
       "    <tr>\n",
       "      <th>Obesity_Type_III</th>\n",
       "      <td>0</td>\n",
       "      <td>0</td>\n",
       "      <td>323</td>\n",
       "      <td>1</td>\n",
       "    </tr>\n",
       "    <tr>\n",
       "      <th>Overweight_Level_I</th>\n",
       "      <td>0</td>\n",
       "      <td>16</td>\n",
       "      <td>224</td>\n",
       "      <td>50</td>\n",
       "    </tr>\n",
       "    <tr>\n",
       "      <th>Overweight_Level_II</th>\n",
       "      <td>0</td>\n",
       "      <td>19</td>\n",
       "      <td>143</td>\n",
       "      <td>128</td>\n",
       "    </tr>\n",
       "  </tbody>\n",
       "</table>\n",
       "</div>"
      ],
      "text/plain": [
       "CALC                 Always  Frequently  Sometimes   no\n",
       "NObeyesdad                                             \n",
       "Insufficient_Weight       0           1        154  117\n",
       "Normal_Weight             1          18        161  107\n",
       "Obesity_Type_I            0          14        172  165\n",
       "Obesity_Type_II           0           2        224   71\n",
       "Obesity_Type_III          0           0        323    1\n",
       "Overweight_Level_I        0          16        224   50\n",
       "Overweight_Level_II       0          19        143  128"
      ]
     },
     "execution_count": 46,
     "metadata": {},
     "output_type": "execute_result"
    }
   ],
   "source": [
    "alcohol_distribution"
   ]
  },
  {
   "cell_type": "code",
   "execution_count": null,
   "id": "c94aa222-58f4-42f8-8309-34cc6554eac4",
   "metadata": {},
   "outputs": [],
   "source": [
    "#Frequent alcohol consumption contributes to obesity due to its high-calorie content and its impact on fat metabolism. It can also increase the risk of cardiovascular diseases (CVD) by raising blood pressure and cholesterol levels."
   ]
  },
  {
   "cell_type": "code",
   "execution_count": 47,
   "id": "b74bd717-ef28-486e-abad-56cfc9942530",
   "metadata": {},
   "outputs": [],
   "source": [
    "smoking_distribution=df.groupby(['NObeyesdad','SMOKE']).size().unstack(fill_value=0)\n"
   ]
  },
  {
   "cell_type": "code",
   "execution_count": 48,
   "id": "48c700dc-afb4-4856-bdcf-6689f8dadad2",
   "metadata": {},
   "outputs": [
    {
     "data": {
      "text/html": [
       "<div>\n",
       "<style scoped>\n",
       "    .dataframe tbody tr th:only-of-type {\n",
       "        vertical-align: middle;\n",
       "    }\n",
       "\n",
       "    .dataframe tbody tr th {\n",
       "        vertical-align: top;\n",
       "    }\n",
       "\n",
       "    .dataframe thead th {\n",
       "        text-align: right;\n",
       "    }\n",
       "</style>\n",
       "<table border=\"1\" class=\"dataframe\">\n",
       "  <thead>\n",
       "    <tr style=\"text-align: right;\">\n",
       "      <th>SMOKE</th>\n",
       "      <th>no</th>\n",
       "      <th>yes</th>\n",
       "    </tr>\n",
       "    <tr>\n",
       "      <th>NObeyesdad</th>\n",
       "      <th></th>\n",
       "      <th></th>\n",
       "    </tr>\n",
       "  </thead>\n",
       "  <tbody>\n",
       "    <tr>\n",
       "      <th>Insufficient_Weight</th>\n",
       "      <td>271</td>\n",
       "      <td>1</td>\n",
       "    </tr>\n",
       "    <tr>\n",
       "      <th>Normal_Weight</th>\n",
       "      <td>274</td>\n",
       "      <td>13</td>\n",
       "    </tr>\n",
       "    <tr>\n",
       "      <th>Obesity_Type_I</th>\n",
       "      <td>345</td>\n",
       "      <td>6</td>\n",
       "    </tr>\n",
       "    <tr>\n",
       "      <th>Obesity_Type_II</th>\n",
       "      <td>282</td>\n",
       "      <td>15</td>\n",
       "    </tr>\n",
       "    <tr>\n",
       "      <th>Obesity_Type_III</th>\n",
       "      <td>323</td>\n",
       "      <td>1</td>\n",
       "    </tr>\n",
       "    <tr>\n",
       "      <th>Overweight_Level_I</th>\n",
       "      <td>287</td>\n",
       "      <td>3</td>\n",
       "    </tr>\n",
       "    <tr>\n",
       "      <th>Overweight_Level_II</th>\n",
       "      <td>285</td>\n",
       "      <td>5</td>\n",
       "    </tr>\n",
       "  </tbody>\n",
       "</table>\n",
       "</div>"
      ],
      "text/plain": [
       "SMOKE                 no  yes\n",
       "NObeyesdad                   \n",
       "Insufficient_Weight  271    1\n",
       "Normal_Weight        274   13\n",
       "Obesity_Type_I       345    6\n",
       "Obesity_Type_II      282   15\n",
       "Obesity_Type_III     323    1\n",
       "Overweight_Level_I   287    3\n",
       "Overweight_Level_II  285    5"
      ]
     },
     "execution_count": 48,
     "metadata": {},
     "output_type": "execute_result"
    }
   ],
   "source": [
    "smoking_distribution\n"
   ]
  },
  {
   "cell_type": "code",
   "execution_count": null,
   "id": "4cd287d0-8170-4ba8-8bb4-2d42043419d6",
   "metadata": {},
   "outputs": [],
   "source": [
    "#Smoking may suppress appetite and lead to lower body weight in some cases, but it significantly increases CVD risk due to its harmful effects on blood vessels, heart function, and cholesterol levels. However, smoking cessation is often associated with weight gain."
   ]
  },
  {
   "cell_type": "raw",
   "id": "2885829f-95c9-474b-9fef-282d8e39b56b",
   "metadata": {},
   "source": [
    " -----------------------"
   ]
  },
  {
   "cell_type": "markdown",
   "id": "21439694-07a7-4b45-9f02-fa814edfeb4a",
   "metadata": {},
   "source": [
    "#### \tExplore the relationship between the amount of technology use (TUE) and physical activity (FAF) and how these affect obesity."
   ]
  },
  {
   "cell_type": "code",
   "execution_count": 49,
   "id": "a9ad3bc9-9926-4429-ac67-6d2e7eec4ed3",
   "metadata": {},
   "outputs": [],
   "source": [
    "TUE_FAF_AVG= df.groupby('NObeyesdad')[['TUE','FAF']].mean().sort_values('TUE')"
   ]
  },
  {
   "cell_type": "code",
   "execution_count": 50,
   "id": "97a7e3dc-cbd6-4425-a41b-e680312e0399",
   "metadata": {},
   "outputs": [
    {
     "data": {
      "text/html": [
       "<div>\n",
       "<style scoped>\n",
       "    .dataframe tbody tr th:only-of-type {\n",
       "        vertical-align: middle;\n",
       "    }\n",
       "\n",
       "    .dataframe tbody tr th {\n",
       "        vertical-align: top;\n",
       "    }\n",
       "\n",
       "    .dataframe thead th {\n",
       "        text-align: right;\n",
       "    }\n",
       "</style>\n",
       "<table border=\"1\" class=\"dataframe\">\n",
       "  <thead>\n",
       "    <tr style=\"text-align: right;\">\n",
       "      <th></th>\n",
       "      <th>TUE</th>\n",
       "      <th>FAF</th>\n",
       "    </tr>\n",
       "    <tr>\n",
       "      <th>NObeyesdad</th>\n",
       "      <th></th>\n",
       "      <th></th>\n",
       "    </tr>\n",
       "  </thead>\n",
       "  <tbody>\n",
       "    <tr>\n",
       "      <th>Obesity_Type_II</th>\n",
       "      <td>0.515186</td>\n",
       "      <td>0.971857</td>\n",
       "    </tr>\n",
       "    <tr>\n",
       "      <th>Obesity_Type_III</th>\n",
       "      <td>0.604623</td>\n",
       "      <td>0.664817</td>\n",
       "    </tr>\n",
       "    <tr>\n",
       "      <th>Overweight_Level_I</th>\n",
       "      <td>0.612992</td>\n",
       "      <td>1.056796</td>\n",
       "    </tr>\n",
       "    <tr>\n",
       "      <th>Normal_Weight</th>\n",
       "      <td>0.675958</td>\n",
       "      <td>1.247387</td>\n",
       "    </tr>\n",
       "    <tr>\n",
       "      <th>Obesity_Type_I</th>\n",
       "      <td>0.676743</td>\n",
       "      <td>0.986748</td>\n",
       "    </tr>\n",
       "    <tr>\n",
       "      <th>Overweight_Level_II</th>\n",
       "      <td>0.697275</td>\n",
       "      <td>0.958072</td>\n",
       "    </tr>\n",
       "    <tr>\n",
       "      <th>Insufficient_Weight</th>\n",
       "      <td>0.839459</td>\n",
       "      <td>1.250131</td>\n",
       "    </tr>\n",
       "  </tbody>\n",
       "</table>\n",
       "</div>"
      ],
      "text/plain": [
       "                          TUE       FAF\n",
       "NObeyesdad                             \n",
       "Obesity_Type_II      0.515186  0.971857\n",
       "Obesity_Type_III     0.604623  0.664817\n",
       "Overweight_Level_I   0.612992  1.056796\n",
       "Normal_Weight        0.675958  1.247387\n",
       "Obesity_Type_I       0.676743  0.986748\n",
       "Overweight_Level_II  0.697275  0.958072\n",
       "Insufficient_Weight  0.839459  1.250131"
      ]
     },
     "execution_count": 50,
     "metadata": {},
     "output_type": "execute_result"
    }
   ],
   "source": [
    "TUE_FAF_AVG"
   ]
  },
  {
   "cell_type": "code",
   "execution_count": null,
   "id": "02ed3b91-a6b0-40a2-b125-e1b5c61e9c65",
   "metadata": {},
   "outputs": [],
   "source": [
    "#Excessive technology use with low physical activity significantly increases obesity risk, while balancing screen time with regular exercise helps mitigate this impact."
   ]
  },
  {
   "cell_type": "markdown",
   "id": "3484e36f-ef69-4ba9-8889-89a80e7508da",
   "metadata": {},
   "source": [
    "-------------------------------------------------------------------------------------------------------------------------------------------------------"
   ]
  },
  {
   "cell_type": "markdown",
   "id": "bf6fc191-7d23-49c1-9a37-6ea6c80e5539",
   "metadata": {},
   "source": [
    "### 4.\tWater Consumption and Caloric Monitoring:\n"
   ]
  },
  {
   "cell_type": "markdown",
   "id": "5680551a-3f5f-445c-84a8-5c566faf3b62",
   "metadata": {},
   "source": [
    "#### \tHow does daily water intake (CH2O) relate to obesity levels?"
   ]
  },
  {
   "cell_type": "code",
   "execution_count": 51,
   "id": "5878d37f-cbd5-45df-8d4b-b59e9c050bb1",
   "metadata": {},
   "outputs": [],
   "source": [
    "Water_intake=df.groupby('NObeyesdad')['CH2O'].mean().sort_values()"
   ]
  },
  {
   "cell_type": "code",
   "execution_count": 52,
   "id": "876ca9a4-34fa-4ff8-9812-e202e2e7c3b2",
   "metadata": {},
   "outputs": [
    {
     "data": {
      "text/plain": [
       "NObeyesdad\n",
       "Normal_Weight          1.850174\n",
       "Insufficient_Weight    1.871281\n",
       "Obesity_Type_II        1.877658\n",
       "Overweight_Level_II    2.025133\n",
       "Overweight_Level_I     2.058725\n",
       "Obesity_Type_I         2.112218\n",
       "Obesity_Type_III       2.208493\n",
       "Name: CH2O, dtype: float64"
      ]
     },
     "execution_count": 52,
     "metadata": {},
     "output_type": "execute_result"
    }
   ],
   "source": [
    "Water_intake"
   ]
  },
  {
   "cell_type": "code",
   "execution_count": null,
   "id": "ecbf801d-6f2e-4509-b130-08de79eb6836",
   "metadata": {},
   "outputs": [],
   "source": [
    "#Higher daily water intake (CH2O) is often associated with lower obesity levels.it supports metabolism, reduces appetite, and may replace high-calorie drinks, contributing to better weight management"
   ]
  },
  {
   "cell_type": "raw",
   "id": "d59cd5e8-a8ed-46aa-b594-fc4de849aef2",
   "metadata": {},
   "source": [
    " ----------------------"
   ]
  },
  {
   "cell_type": "markdown",
   "id": "ff3c522c-d23b-4365-9f03-7410aea4d8c8",
   "metadata": {},
   "source": [
    "#### \tDo individuals who monitor their calorie intake (SCC) show lower obesity levels compared to those who do not?"
   ]
  },
  {
   "cell_type": "code",
   "execution_count": 58,
   "id": "944d13f8-b10e-4861-b23d-ceb81fb268cd",
   "metadata": {},
   "outputs": [],
   "source": [
    "SCC_distribution=df.groupby(['SCC','NObeyesdad']).size().unstack(fill_value=0)"
   ]
  },
  {
   "cell_type": "code",
   "execution_count": 59,
   "id": "1bca7769-9975-4a99-8b1d-2e909bbfde55",
   "metadata": {},
   "outputs": [
    {
     "data": {
      "text/html": [
       "<div>\n",
       "<style scoped>\n",
       "    .dataframe tbody tr th:only-of-type {\n",
       "        vertical-align: middle;\n",
       "    }\n",
       "\n",
       "    .dataframe tbody tr th {\n",
       "        vertical-align: top;\n",
       "    }\n",
       "\n",
       "    .dataframe thead th {\n",
       "        text-align: right;\n",
       "    }\n",
       "</style>\n",
       "<table border=\"1\" class=\"dataframe\">\n",
       "  <thead>\n",
       "    <tr style=\"text-align: right;\">\n",
       "      <th>NObeyesdad</th>\n",
       "      <th>Insufficient_Weight</th>\n",
       "      <th>Normal_Weight</th>\n",
       "      <th>Obesity_Type_I</th>\n",
       "      <th>Obesity_Type_II</th>\n",
       "      <th>Obesity_Type_III</th>\n",
       "      <th>Overweight_Level_I</th>\n",
       "      <th>Overweight_Level_II</th>\n",
       "    </tr>\n",
       "    <tr>\n",
       "      <th>SCC</th>\n",
       "      <th></th>\n",
       "      <th></th>\n",
       "      <th></th>\n",
       "      <th></th>\n",
       "      <th></th>\n",
       "      <th></th>\n",
       "      <th></th>\n",
       "    </tr>\n",
       "  </thead>\n",
       "  <tbody>\n",
       "    <tr>\n",
       "      <th>no</th>\n",
       "      <td>250</td>\n",
       "      <td>257</td>\n",
       "      <td>349</td>\n",
       "      <td>296</td>\n",
       "      <td>324</td>\n",
       "      <td>253</td>\n",
       "      <td>286</td>\n",
       "    </tr>\n",
       "    <tr>\n",
       "      <th>yes</th>\n",
       "      <td>22</td>\n",
       "      <td>30</td>\n",
       "      <td>2</td>\n",
       "      <td>1</td>\n",
       "      <td>0</td>\n",
       "      <td>37</td>\n",
       "      <td>4</td>\n",
       "    </tr>\n",
       "  </tbody>\n",
       "</table>\n",
       "</div>"
      ],
      "text/plain": [
       "NObeyesdad  Insufficient_Weight  Normal_Weight  Obesity_Type_I  \\\n",
       "SCC                                                              \n",
       "no                          250            257             349   \n",
       "yes                          22             30               2   \n",
       "\n",
       "NObeyesdad  Obesity_Type_II  Obesity_Type_III  Overweight_Level_I  \\\n",
       "SCC                                                                 \n",
       "no                      296               324                 253   \n",
       "yes                       1                 0                  37   \n",
       "\n",
       "NObeyesdad  Overweight_Level_II  \n",
       "SCC                              \n",
       "no                          286  \n",
       "yes                           4  "
      ]
     },
     "execution_count": 59,
     "metadata": {},
     "output_type": "execute_result"
    }
   ],
   "source": [
    "SCC_distribution"
   ]
  },
  {
   "cell_type": "code",
   "execution_count": null,
   "id": "fa67fe69-976a-4475-961a-aa6318711956",
   "metadata": {},
   "outputs": [],
   "source": [
    "#Yes, individuals who monitor their calorie intake (SCC = \"yes\") generally show lower obesity levels compared to those who do not monitor their intake (SCC = \"no\"). Monitoring calorie intake is associated with better weight management and lower obesity rates."
   ]
  },
  {
   "cell_type": "markdown",
   "id": "2dbd6c14-1178-4fc3-983e-1dc6db1b48d6",
   "metadata": {},
   "source": [
    "------------------------------------------------------------------------------------------------------------------------------------------------------"
   ]
  },
  {
   "cell_type": "markdown",
   "id": "9a08b325-25c9-40a6-85f8-d257d5bef260",
   "metadata": {},
   "source": [
    "### 5.\tTransportation Mode and Obesity:"
   ]
  },
  {
   "cell_type": "markdown",
   "id": "f436c873-80b3-4ebf-a872-d69892f0d1ed",
   "metadata": {},
   "source": [
    "#### \tInvestigate how different transportation modes (MTRANS) relate to obesity levels. Do individuals who walk or use public transport have lower obesity levels compared to those who drive?"
   ]
  },
  {
   "cell_type": "code",
   "execution_count": 60,
   "id": "1c16caef-f7fc-40c2-9f48-f7a68dce0be4",
   "metadata": {},
   "outputs": [],
   "source": [
    "transport_distribution=df.groupby(['MTRANS','NObeyesdad']).size().unstack(fill_value=0)"
   ]
  },
  {
   "cell_type": "code",
   "execution_count": 61,
   "id": "086b001b-7b87-4c19-88ff-e7d39bd356a2",
   "metadata": {},
   "outputs": [
    {
     "data": {
      "text/html": [
       "<div>\n",
       "<style scoped>\n",
       "    .dataframe tbody tr th:only-of-type {\n",
       "        vertical-align: middle;\n",
       "    }\n",
       "\n",
       "    .dataframe tbody tr th {\n",
       "        vertical-align: top;\n",
       "    }\n",
       "\n",
       "    .dataframe thead th {\n",
       "        text-align: right;\n",
       "    }\n",
       "</style>\n",
       "<table border=\"1\" class=\"dataframe\">\n",
       "  <thead>\n",
       "    <tr style=\"text-align: right;\">\n",
       "      <th>NObeyesdad</th>\n",
       "      <th>Insufficient_Weight</th>\n",
       "      <th>Normal_Weight</th>\n",
       "      <th>Obesity_Type_I</th>\n",
       "      <th>Obesity_Type_II</th>\n",
       "      <th>Obesity_Type_III</th>\n",
       "      <th>Overweight_Level_I</th>\n",
       "      <th>Overweight_Level_II</th>\n",
       "    </tr>\n",
       "    <tr>\n",
       "      <th>MTRANS</th>\n",
       "      <th></th>\n",
       "      <th></th>\n",
       "      <th></th>\n",
       "      <th></th>\n",
       "      <th></th>\n",
       "      <th></th>\n",
       "      <th></th>\n",
       "    </tr>\n",
       "  </thead>\n",
       "  <tbody>\n",
       "    <tr>\n",
       "      <th>Automobile</th>\n",
       "      <td>46</td>\n",
       "      <td>45</td>\n",
       "      <td>110</td>\n",
       "      <td>95</td>\n",
       "      <td>1</td>\n",
       "      <td>66</td>\n",
       "      <td>94</td>\n",
       "    </tr>\n",
       "    <tr>\n",
       "      <th>Bike</th>\n",
       "      <td>0</td>\n",
       "      <td>4</td>\n",
       "      <td>0</td>\n",
       "      <td>1</td>\n",
       "      <td>0</td>\n",
       "      <td>2</td>\n",
       "      <td>0</td>\n",
       "    </tr>\n",
       "    <tr>\n",
       "      <th>Motorbike</th>\n",
       "      <td>0</td>\n",
       "      <td>6</td>\n",
       "      <td>3</td>\n",
       "      <td>0</td>\n",
       "      <td>0</td>\n",
       "      <td>1</td>\n",
       "      <td>1</td>\n",
       "    </tr>\n",
       "    <tr>\n",
       "      <th>Public_Transportation</th>\n",
       "      <td>220</td>\n",
       "      <td>200</td>\n",
       "      <td>236</td>\n",
       "      <td>200</td>\n",
       "      <td>323</td>\n",
       "      <td>212</td>\n",
       "      <td>189</td>\n",
       "    </tr>\n",
       "    <tr>\n",
       "      <th>Walking</th>\n",
       "      <td>6</td>\n",
       "      <td>32</td>\n",
       "      <td>2</td>\n",
       "      <td>1</td>\n",
       "      <td>0</td>\n",
       "      <td>9</td>\n",
       "      <td>6</td>\n",
       "    </tr>\n",
       "  </tbody>\n",
       "</table>\n",
       "</div>"
      ],
      "text/plain": [
       "NObeyesdad             Insufficient_Weight  Normal_Weight  Obesity_Type_I  \\\n",
       "MTRANS                                                                      \n",
       "Automobile                              46             45             110   \n",
       "Bike                                     0              4               0   \n",
       "Motorbike                                0              6               3   \n",
       "Public_Transportation                  220            200             236   \n",
       "Walking                                  6             32               2   \n",
       "\n",
       "NObeyesdad             Obesity_Type_II  Obesity_Type_III  Overweight_Level_I  \\\n",
       "MTRANS                                                                         \n",
       "Automobile                          95                 1                  66   \n",
       "Bike                                 1                 0                   2   \n",
       "Motorbike                            0                 0                   1   \n",
       "Public_Transportation              200               323                 212   \n",
       "Walking                              1                 0                   9   \n",
       "\n",
       "NObeyesdad             Overweight_Level_II  \n",
       "MTRANS                                      \n",
       "Automobile                              94  \n",
       "Bike                                     0  \n",
       "Motorbike                                1  \n",
       "Public_Transportation                  189  \n",
       "Walking                                  6  "
      ]
     },
     "execution_count": 61,
     "metadata": {},
     "output_type": "execute_result"
    }
   ],
   "source": [
    "transport_distribution"
   ]
  },
  {
   "cell_type": "code",
   "execution_count": null,
   "id": "322fadf3-f462-46c7-853a-d3e1d9e317e0",
   "metadata": {},
   "outputs": [],
   "source": [
    "#Individuals who walk or use public transportation (MTRANS = \"Walking\" or \"Public Transportation\") generally have lower obesity levels compared to those who drive (MTRANS = \"Automobile\"). Active transportation modes like walking and public transport are associated with higher physical activity levels, which can contribute to better weight management and lower obesity rates."
   ]
  },
  {
   "cell_type": "markdown",
   "id": "335e35f5-896e-4ecf-b238-9f0bbfd48b6b",
   "metadata": {},
   "source": [
    "---------------------------------------------------------------------------------------------------------------------------------------------------"
   ]
  },
  {
   "cell_type": "markdown",
   "id": "7e2f9b67-2bf6-4dbd-b769-a8c09b696420",
   "metadata": {},
   "source": [
    "#### 6.\tFamily History and Obesity:"
   ]
  },
  {
   "cell_type": "markdown",
   "id": "f82a7d39-6dd4-418a-9880-2774b8a92e69",
   "metadata": {},
   "source": [
    "#### \tHow does a family history of being overweight affect the risk of obesity in individuals?"
   ]
  },
  {
   "cell_type": "code",
   "execution_count": 46,
   "id": "3360514b-6737-475a-933d-258273f11219",
   "metadata": {},
   "outputs": [],
   "source": [
    "fho_distribution=df.groupby(['family_history_with_overweight','NObeyesdad']).size().unstack(fill_value=0)"
   ]
  },
  {
   "cell_type": "code",
   "execution_count": 47,
   "id": "fa60dde2-8233-4428-9ada-237f37b4f2f6",
   "metadata": {},
   "outputs": [
    {
     "data": {
      "text/html": [
       "<div>\n",
       "<style scoped>\n",
       "    .dataframe tbody tr th:only-of-type {\n",
       "        vertical-align: middle;\n",
       "    }\n",
       "\n",
       "    .dataframe tbody tr th {\n",
       "        vertical-align: top;\n",
       "    }\n",
       "\n",
       "    .dataframe thead th {\n",
       "        text-align: right;\n",
       "    }\n",
       "</style>\n",
       "<table border=\"1\" class=\"dataframe\">\n",
       "  <thead>\n",
       "    <tr style=\"text-align: right;\">\n",
       "      <th>NObeyesdad</th>\n",
       "      <th>Insufficient_Weight</th>\n",
       "      <th>Normal_Weight</th>\n",
       "      <th>Obesity_Type_I</th>\n",
       "      <th>Obesity_Type_II</th>\n",
       "      <th>Obesity_Type_III</th>\n",
       "      <th>Overweight_Level_I</th>\n",
       "      <th>Overweight_Level_II</th>\n",
       "    </tr>\n",
       "    <tr>\n",
       "      <th>family_history_with_overweight</th>\n",
       "      <th></th>\n",
       "      <th></th>\n",
       "      <th></th>\n",
       "      <th></th>\n",
       "      <th></th>\n",
       "      <th></th>\n",
       "      <th></th>\n",
       "    </tr>\n",
       "  </thead>\n",
       "  <tbody>\n",
       "    <tr>\n",
       "      <th>no</th>\n",
       "      <td>146</td>\n",
       "      <td>132</td>\n",
       "      <td>7</td>\n",
       "      <td>1</td>\n",
       "      <td>0</td>\n",
       "      <td>81</td>\n",
       "      <td>18</td>\n",
       "    </tr>\n",
       "    <tr>\n",
       "      <th>yes</th>\n",
       "      <td>126</td>\n",
       "      <td>155</td>\n",
       "      <td>344</td>\n",
       "      <td>296</td>\n",
       "      <td>324</td>\n",
       "      <td>209</td>\n",
       "      <td>272</td>\n",
       "    </tr>\n",
       "  </tbody>\n",
       "</table>\n",
       "</div>"
      ],
      "text/plain": [
       "NObeyesdad                      Insufficient_Weight  Normal_Weight  \\\n",
       "family_history_with_overweight                                       \n",
       "no                                              146            132   \n",
       "yes                                             126            155   \n",
       "\n",
       "NObeyesdad                      Obesity_Type_I  Obesity_Type_II  \\\n",
       "family_history_with_overweight                                    \n",
       "no                                           7                1   \n",
       "yes                                        344              296   \n",
       "\n",
       "NObeyesdad                      Obesity_Type_III  Overweight_Level_I  \\\n",
       "family_history_with_overweight                                         \n",
       "no                                             0                  81   \n",
       "yes                                          324                 209   \n",
       "\n",
       "NObeyesdad                      Overweight_Level_II  \n",
       "family_history_with_overweight                       \n",
       "no                                               18  \n",
       "yes                                             272  "
      ]
     },
     "execution_count": 47,
     "metadata": {},
     "output_type": "execute_result"
    }
   ],
   "source": [
    "fho_distribution"
   ]
  },
  {
   "cell_type": "raw",
   "id": "dc5886c1-9405-4779-8caa-2d6f59bcbbb7",
   "metadata": {},
   "source": [
    " -----------------------------"
   ]
  },
  {
   "cell_type": "markdown",
   "id": "bd1fe823-a7ec-4fc9-bc4d-4b5d1260988e",
   "metadata": {},
   "source": [
    "#### \tAre individuals with a family history of obesity more likely to have unhealthy dietary or lifestyle habits?"
   ]
  },
  {
   "cell_type": "code",
   "execution_count": 48,
   "id": "c43dc5d4-6b38-4e19-ae9c-c4f006831a13",
   "metadata": {},
   "outputs": [],
   "source": [
    "columns_to_analyze=['CALC','CAEC','FCVC','NCP','CH2O','TUE','FAF']"
   ]
  },
  {
   "cell_type": "code",
   "execution_count": 50,
   "id": "f0b4172a-91a2-44f3-b3f6-89933231992e",
   "metadata": {},
   "outputs": [
    {
     "data": {
      "text/plain": [
       "Gender                             object\n",
       "Age                               float64\n",
       "Height                            float64\n",
       "Weight                            float64\n",
       "family_history_with_overweight     object\n",
       "FAVC                               object\n",
       "FCVC                              float64\n",
       "NCP                               float64\n",
       "CAEC                               object\n",
       "SMOKE                              object\n",
       "CH2O                              float64\n",
       "SCC                                object\n",
       "FAF                               float64\n",
       "TUE                               float64\n",
       "CALC                               object\n",
       "MTRANS                             object\n",
       "NObeyesdad                         object\n",
       "BMI                               float64\n",
       "dtype: object"
      ]
     },
     "execution_count": 50,
     "metadata": {},
     "output_type": "execute_result"
    }
   ],
   "source": [
    "df.dtypes"
   ]
  },
  {
   "cell_type": "code",
   "execution_count": 51,
   "id": "a8cd0b16-471f-45b2-915b-f707042b10a8",
   "metadata": {},
   "outputs": [],
   "source": [
    "A=['FAVC','CAEC']"
   ]
  },
  {
   "cell_type": "code",
   "execution_count": 52,
   "id": "e916d67c-f3c2-4d61-ba93-882f41cb8eef",
   "metadata": {},
   "outputs": [],
   "source": [
    "df['FAVC']=pd.to_numeric(df['FAVC'],errors='coerce').astype('float')"
   ]
  },
  {
   "cell_type": "code",
   "execution_count": 53,
   "id": "59c708bb-3fa5-4a43-9a85-0be33c706185",
   "metadata": {},
   "outputs": [
    {
     "data": {
      "text/plain": [
       "dtype('float64')"
      ]
     },
     "execution_count": 53,
     "metadata": {},
     "output_type": "execute_result"
    }
   ],
   "source": [
    "df['FAVC'].dtype"
   ]
  },
  {
   "cell_type": "code",
   "execution_count": 54,
   "id": "3c228b14-7147-486f-a603-1b60c5cb1978",
   "metadata": {},
   "outputs": [],
   "source": [
    "df['CAEC']=pd.to_numeric(df['CAEC'],errors='coerce').astype('float')"
   ]
  },
  {
   "cell_type": "code",
   "execution_count": 55,
   "id": "11f61cae-7734-4c9c-9777-22499da34572",
   "metadata": {},
   "outputs": [
    {
     "data": {
      "text/plain": [
       "dtype('float64')"
      ]
     },
     "execution_count": 55,
     "metadata": {},
     "output_type": "execute_result"
    }
   ],
   "source": [
    "df['CAEC'].dtype"
   ]
  },
  {
   "cell_type": "code",
   "execution_count": 56,
   "id": "d9cbd96b-6774-4e64-9306-b8b5fb59fdfe",
   "metadata": {},
   "outputs": [],
   "source": [
    "df['CALC']=pd.to_numeric(df['CALC'],errors='coerce').astype('float')"
   ]
  },
  {
   "cell_type": "code",
   "execution_count": 57,
   "id": "32c377b0-b6cc-446e-9b49-cc4590c32384",
   "metadata": {},
   "outputs": [
    {
     "data": {
      "text/plain": [
       "dtype('float64')"
      ]
     },
     "execution_count": 57,
     "metadata": {},
     "output_type": "execute_result"
    }
   ],
   "source": [
    "df['CALC'].dtype"
   ]
  },
  {
   "cell_type": "code",
   "execution_count": 58,
   "id": "aee01601-22d6-4480-94ee-7504849a4b53",
   "metadata": {},
   "outputs": [],
   "source": [
    "habit_averages=df.groupby('family_history_with_overweight')[columns_to_analyze].mean()"
   ]
  },
  {
   "cell_type": "code",
   "execution_count": 59,
   "id": "637cf3b3-d7b8-4daf-8e39-abe11dbfafca",
   "metadata": {},
   "outputs": [
    {
     "data": {
      "text/html": [
       "<div>\n",
       "<style scoped>\n",
       "    .dataframe tbody tr th:only-of-type {\n",
       "        vertical-align: middle;\n",
       "    }\n",
       "\n",
       "    .dataframe tbody tr th {\n",
       "        vertical-align: top;\n",
       "    }\n",
       "\n",
       "    .dataframe thead th {\n",
       "        text-align: right;\n",
       "    }\n",
       "</style>\n",
       "<table border=\"1\" class=\"dataframe\">\n",
       "  <thead>\n",
       "    <tr style=\"text-align: right;\">\n",
       "      <th></th>\n",
       "      <th>CALC</th>\n",
       "      <th>CAEC</th>\n",
       "      <th>FCVC</th>\n",
       "      <th>NCP</th>\n",
       "      <th>CH2O</th>\n",
       "      <th>TUE</th>\n",
       "      <th>FAF</th>\n",
       "    </tr>\n",
       "    <tr>\n",
       "      <th>family_history_with_overweight</th>\n",
       "      <th></th>\n",
       "      <th></th>\n",
       "      <th></th>\n",
       "      <th></th>\n",
       "      <th></th>\n",
       "      <th></th>\n",
       "      <th></th>\n",
       "    </tr>\n",
       "  </thead>\n",
       "  <tbody>\n",
       "    <tr>\n",
       "      <th>no</th>\n",
       "      <td>NaN</td>\n",
       "      <td>NaN</td>\n",
       "      <td>2.373413</td>\n",
       "      <td>2.568084</td>\n",
       "      <td>1.816709</td>\n",
       "      <td>0.628292</td>\n",
       "      <td>1.112341</td>\n",
       "    </tr>\n",
       "    <tr>\n",
       "      <th>yes</th>\n",
       "      <td>NaN</td>\n",
       "      <td>NaN</td>\n",
       "      <td>2.429221</td>\n",
       "      <td>2.711847</td>\n",
       "      <td>2.050683</td>\n",
       "      <td>0.664463</td>\n",
       "      <td>0.987536</td>\n",
       "    </tr>\n",
       "  </tbody>\n",
       "</table>\n",
       "</div>"
      ],
      "text/plain": [
       "                                CALC  CAEC      FCVC       NCP      CH2O  \\\n",
       "family_history_with_overweight                                             \n",
       "no                               NaN   NaN  2.373413  2.568084  1.816709   \n",
       "yes                              NaN   NaN  2.429221  2.711847  2.050683   \n",
       "\n",
       "                                     TUE       FAF  \n",
       "family_history_with_overweight                      \n",
       "no                              0.628292  1.112341  \n",
       "yes                             0.664463  0.987536  "
      ]
     },
     "execution_count": 59,
     "metadata": {},
     "output_type": "execute_result"
    }
   ],
   "source": [
    "habit_averages"
   ]
  },
  {
   "cell_type": "code",
   "execution_count": 60,
   "id": "f31d3c94-d6c3-46f3-99e6-aeae4aff5d6d",
   "metadata": {},
   "outputs": [
    {
     "data": {
      "image/png": "[encoded data removed]",
      "text/plain": [
       "<Figure size 640x480 with 1 Axes>"
      ]
     },
     "metadata": {},
     "output_type": "display_data"
    }
   ],
   "source": [
    "habit_averages.plot(kind='bar', stacked=True)\n",
    "plt.title('Obesity Levels by Family History of Overweight')\n",
    "plt.xlabel('Family History of Overweight')\n",
    "plt.ylabel('Percentage')\n",
    "plt.legend(title='Obesity Level')\n",
    "plt.xticks(rotation=0)\n",
    "plt.show()"
   ]
  },
  {
   "cell_type": "code",
   "execution_count": null,
   "id": "c7f39223-d816-49f8-92bd-3a0a6400d603",
   "metadata": {},
   "outputs": [],
   "source": [
    "#you will see the counts and percentages of obesity levels for individuals with and without a family history of being overweight. Generally, individuals with a family history of being overweight may have a higher risk of obesity compared to those without such a history"
   ]
  },
  {
   "cell_type": "markdown",
   "id": "6dac1b7d-9a9a-4792-b4e4-60c111d8caa0",
   "metadata": {},
   "source": [
    "-----------------------------------------------------------------------------------------------------------------------------------------------------"
   ]
  },
  {
   "cell_type": "markdown",
   "id": "82c8bb46-1101-49de-a0b4-0bdbd672db89",
   "metadata": {},
   "source": [
    "### 7.\tRecommendations:"
   ]
  },
  {
   "cell_type": "markdown",
   "id": "4ee00ecb-f4b3-47ba-b7fd-17c7521fe0bc",
   "metadata": {},
   "source": [
    "#### \tBased on your findings, provide recommendations on lifestyle changes that can help reduce obesity and associated CVD risks."
   ]
  },
  {
   "cell_type": "code",
   "execution_count": 107,
   "id": "1f4a6ae0-7f6d-4eba-8731-30944727e1d2",
   "metadata": {},
   "outputs": [],
   "source": [
    "key_factors=['CH2O','FAF','TUE','CALC','CAEC','FAVC','NCP']"
   ]
  },
  {
   "cell_type": "code",
   "execution_count": 108,
   "id": "226aa979-6576-43e1-8686-f1cb6ac5306d",
   "metadata": {},
   "outputs": [],
   "source": [
    "obesity_groups=df.groupby('NObeyesdad')[key_factors].mean()"
   ]
  },
  {
   "cell_type": "code",
   "execution_count": 109,
   "id": "a58a6e87-f443-4c37-a482-81ead0763322",
   "metadata": {},
   "outputs": [
    {
     "data": {
      "text/html": [
       "<div>\n",
       "<style scoped>\n",
       "    .dataframe tbody tr th:only-of-type {\n",
       "        vertical-align: middle;\n",
       "    }\n",
       "\n",
       "    .dataframe tbody tr th {\n",
       "        vertical-align: top;\n",
       "    }\n",
       "\n",
       "    .dataframe thead th {\n",
       "        text-align: right;\n",
       "    }\n",
       "</style>\n",
       "<table border=\"1\" class=\"dataframe\">\n",
       "  <thead>\n",
       "    <tr style=\"text-align: right;\">\n",
       "      <th></th>\n",
       "      <th>CH2O</th>\n",
       "      <th>FAF</th>\n",
       "      <th>TUE</th>\n",
       "      <th>CALC</th>\n",
       "      <th>CAEC</th>\n",
       "      <th>FAVC</th>\n",
       "      <th>NCP</th>\n",
       "    </tr>\n",
       "    <tr>\n",
       "      <th>NObeyesdad</th>\n",
       "      <th></th>\n",
       "      <th></th>\n",
       "      <th></th>\n",
       "      <th></th>\n",
       "      <th></th>\n",
       "      <th></th>\n",
       "      <th></th>\n",
       "    </tr>\n",
       "  </thead>\n",
       "  <tbody>\n",
       "    <tr>\n",
       "      <th>Insufficient_Weight</th>\n",
       "      <td>1.871281</td>\n",
       "      <td>1.250131</td>\n",
       "      <td>0.839459</td>\n",
       "      <td>NaN</td>\n",
       "      <td>NaN</td>\n",
       "      <td>NaN</td>\n",
       "      <td>2.914403</td>\n",
       "    </tr>\n",
       "    <tr>\n",
       "      <th>Normal_Weight</th>\n",
       "      <td>1.850174</td>\n",
       "      <td>1.247387</td>\n",
       "      <td>0.675958</td>\n",
       "      <td>NaN</td>\n",
       "      <td>NaN</td>\n",
       "      <td>NaN</td>\n",
       "      <td>2.738676</td>\n",
       "    </tr>\n",
       "    <tr>\n",
       "      <th>Obesity_Type_I</th>\n",
       "      <td>2.112218</td>\n",
       "      <td>0.986748</td>\n",
       "      <td>0.676743</td>\n",
       "      <td>NaN</td>\n",
       "      <td>NaN</td>\n",
       "      <td>NaN</td>\n",
       "      <td>2.431862</td>\n",
       "    </tr>\n",
       "    <tr>\n",
       "      <th>Obesity_Type_II</th>\n",
       "      <td>1.877658</td>\n",
       "      <td>0.971857</td>\n",
       "      <td>0.515186</td>\n",
       "      <td>NaN</td>\n",
       "      <td>NaN</td>\n",
       "      <td>NaN</td>\n",
       "      <td>2.744555</td>\n",
       "    </tr>\n",
       "    <tr>\n",
       "      <th>Obesity_Type_III</th>\n",
       "      <td>2.208493</td>\n",
       "      <td>0.664817</td>\n",
       "      <td>0.604623</td>\n",
       "      <td>NaN</td>\n",
       "      <td>NaN</td>\n",
       "      <td>NaN</td>\n",
       "      <td>3.000000</td>\n",
       "    </tr>\n",
       "    <tr>\n",
       "      <th>Overweight_Level_I</th>\n",
       "      <td>2.058725</td>\n",
       "      <td>1.056796</td>\n",
       "      <td>0.612992</td>\n",
       "      <td>NaN</td>\n",
       "      <td>NaN</td>\n",
       "      <td>NaN</td>\n",
       "      <td>2.504218</td>\n",
       "    </tr>\n",
       "    <tr>\n",
       "      <th>Overweight_Level_II</th>\n",
       "      <td>2.025133</td>\n",
       "      <td>0.958072</td>\n",
       "      <td>0.697275</td>\n",
       "      <td>NaN</td>\n",
       "      <td>NaN</td>\n",
       "      <td>NaN</td>\n",
       "      <td>2.495529</td>\n",
       "    </tr>\n",
       "  </tbody>\n",
       "</table>\n",
       "</div>"
      ],
      "text/plain": [
       "                         CH2O       FAF       TUE  CALC  CAEC  FAVC       NCP\n",
       "NObeyesdad                                                                   \n",
       "Insufficient_Weight  1.871281  1.250131  0.839459   NaN   NaN   NaN  2.914403\n",
       "Normal_Weight        1.850174  1.247387  0.675958   NaN   NaN   NaN  2.738676\n",
       "Obesity_Type_I       2.112218  0.986748  0.676743   NaN   NaN   NaN  2.431862\n",
       "Obesity_Type_II      1.877658  0.971857  0.515186   NaN   NaN   NaN  2.744555\n",
       "Obesity_Type_III     2.208493  0.664817  0.604623   NaN   NaN   NaN  3.000000\n",
       "Overweight_Level_I   2.058725  1.056796  0.612992   NaN   NaN   NaN  2.504218\n",
       "Overweight_Level_II  2.025133  0.958072  0.697275   NaN   NaN   NaN  2.495529"
      ]
     },
     "execution_count": 109,
     "metadata": {},
     "output_type": "execute_result"
    }
   ],
   "source": [
    "obesity_groups"
   ]
  },
  {
   "cell_type": "code",
   "execution_count": 122,
   "id": "876f425c-0618-427a-bf2c-df0da848d006",
   "metadata": {},
   "outputs": [
    {
     "data": {
      "text/plain": [
       "<function matplotlib.pyplot.show(close=None, block=None)>"
      ]
     },
     "execution_count": 122,
     "metadata": {},
     "output_type": "execute_result"
    },
    {
     "data": {
      "text/plain": [
       "<Figure size 1200x600 with 0 Axes>"
      ]
     },
     "metadata": {},
     "output_type": "display_data"
    },
    {
     "data": {
      "image/png": "[encoded data removed]",
      "text/plain": [
       "<Figure size 640x480 with 1 Axes>"
      ]
     },
     "metadata": {},
     "output_type": "display_data"
    }
   ],
   "source": [
    "plt.figure(figsize=(12,6))\n",
    "obesity_groups.plot(kind='bar')\n",
    "plt.title('Key Lifestyle and Dietary Habits by Obesity Levels')\n",
    "plt.xlabel('Habits')\n",
    "plt.ylabel('Average value')\n",
    "plt.legend(title='obesity levels',loc='upper right')\n",
    "plt.xticks(rotation=45,ha='right')\n",
    "plt.show"
   ]
  },
  {
   "cell_type": "code",
   "execution_count": 117,
   "id": "d81d0a49-47ec-45c0-97ed-1739eb9c8f70",
   "metadata": {},
   "outputs": [],
   "source": [
    "fho_group=df.groupby('family_history_with_overweight')[key_factors].mean()"
   ]
  },
  {
   "cell_type": "code",
   "execution_count": 118,
   "id": "62f39c53-36f2-4de0-898f-a11015086893",
   "metadata": {},
   "outputs": [
    {
     "data": {
      "text/html": [
       "<div>\n",
       "<style scoped>\n",
       "    .dataframe tbody tr th:only-of-type {\n",
       "        vertical-align: middle;\n",
       "    }\n",
       "\n",
       "    .dataframe tbody tr th {\n",
       "        vertical-align: top;\n",
       "    }\n",
       "\n",
       "    .dataframe thead th {\n",
       "        text-align: right;\n",
       "    }\n",
       "</style>\n",
       "<table border=\"1\" class=\"dataframe\">\n",
       "  <thead>\n",
       "    <tr style=\"text-align: right;\">\n",
       "      <th></th>\n",
       "      <th>CH2O</th>\n",
       "      <th>FAF</th>\n",
       "      <th>TUE</th>\n",
       "      <th>CALC</th>\n",
       "      <th>CAEC</th>\n",
       "      <th>FAVC</th>\n",
       "      <th>NCP</th>\n",
       "    </tr>\n",
       "    <tr>\n",
       "      <th>family_history_with_overweight</th>\n",
       "      <th></th>\n",
       "      <th></th>\n",
       "      <th></th>\n",
       "      <th></th>\n",
       "      <th></th>\n",
       "      <th></th>\n",
       "      <th></th>\n",
       "    </tr>\n",
       "  </thead>\n",
       "  <tbody>\n",
       "    <tr>\n",
       "      <th>no</th>\n",
       "      <td>1.816709</td>\n",
       "      <td>1.112341</td>\n",
       "      <td>0.628292</td>\n",
       "      <td>NaN</td>\n",
       "      <td>NaN</td>\n",
       "      <td>NaN</td>\n",
       "      <td>2.568084</td>\n",
       "    </tr>\n",
       "    <tr>\n",
       "      <th>yes</th>\n",
       "      <td>2.050683</td>\n",
       "      <td>0.987536</td>\n",
       "      <td>0.664463</td>\n",
       "      <td>NaN</td>\n",
       "      <td>NaN</td>\n",
       "      <td>NaN</td>\n",
       "      <td>2.711847</td>\n",
       "    </tr>\n",
       "  </tbody>\n",
       "</table>\n",
       "</div>"
      ],
      "text/plain": [
       "                                    CH2O       FAF       TUE  CALC  CAEC  \\\n",
       "family_history_with_overweight                                             \n",
       "no                              1.816709  1.112341  0.628292   NaN   NaN   \n",
       "yes                             2.050683  0.987536  0.664463   NaN   NaN   \n",
       "\n",
       "                                FAVC       NCP  \n",
       "family_history_with_overweight                  \n",
       "no                               NaN  2.568084  \n",
       "yes                              NaN  2.711847  "
      ]
     },
     "execution_count": 118,
     "metadata": {},
     "output_type": "execute_result"
    }
   ],
   "source": [
    "fho_group"
   ]
  },
  {
   "cell_type": "code",
   "execution_count": 121,
   "id": "4bddf126-105e-446b-9168-d3320e4ef08d",
   "metadata": {},
   "outputs": [
    {
     "data": {
      "text/plain": [
       "<function matplotlib.pyplot.show(close=None, block=None)>"
      ]
     },
     "execution_count": 121,
     "metadata": {},
     "output_type": "execute_result"
    },
    {
     "data": {
      "text/plain": [
       "<Figure size 1200x600 with 0 Axes>"
      ]
     },
     "metadata": {},
     "output_type": "display_data"
    },
    {
     "data": {
      "image/png": "[encoded data removed]",
      "text/plain": [
       "<Figure size 640x480 with 1 Axes>"
      ]
     },
     "metadata": {},
     "output_type": "display_data"
    }
   ],
   "source": [
    "plt.figure(figsize=(12,6))\n",
    "fho_group.plot(kind='bar')\n",
    "plt.title('Key Lifestyle and Dietary Habits by Obesity (FHO)')\n",
    "plt.xlabel('Habits')\n",
    "plt.ylabel('Average value')\n",
    "plt.legend(title='family history (FHO)',loc='upper right')\n",
    "plt.xticks(rotation=45,ha='right')\n",
    "plt.tight_layout()\n",
    "plt.show"
   ]
  },
  {
   "cell_type": "code",
   "execution_count": null,
   "id": "4da95da9-93e7-4be9-b5bf-c1cfb1daf803",
   "metadata": {},
   "outputs": [],
   "source": [
    "##The graph would likely illustrate that active transportation modes (walking, public transport) correlate with lower obesity levels, reinforcing the recommendation to incorporate more physical activity into daily routines."
   ]
  },
  {
   "cell_type": "raw",
   "id": "3add33a0-7571-455a-9d2a-ac1cecad29fc",
   "metadata": {},
   "source": [
    "----------------------"
   ]
  },
  {
   "cell_type": "markdown",
   "id": "fb630904-d5e4-428a-850d-6c014af8f656",
   "metadata": {},
   "source": [
    "#### \tSuggest strategies for improving diet and physical activity based on the analysis."
   ]
  },
  {
   "cell_type": "code",
   "execution_count": 123,
   "id": "3227c18b-a3c9-40b9-b701-3113a0c51880",
   "metadata": {},
   "outputs": [],
   "source": [
    "factors=['CH2O','FAF','TUE','CALC','CAEC','FAVC','NCP']"
   ]
  },
  {
   "cell_type": "code",
   "execution_count": 124,
   "id": "4f15d178-4647-4b95-9678-34ebb183849f",
   "metadata": {},
   "outputs": [],
   "source": [
    "grouped_data=df.groupby('NObeyesdad')[factors].mean()"
   ]
  },
  {
   "cell_type": "code",
   "execution_count": 125,
   "id": "20ed455b-5013-498f-b888-d80d73f3f216",
   "metadata": {},
   "outputs": [
    {
     "data": {
      "text/html": [
       "<div>\n",
       "<style scoped>\n",
       "    .dataframe tbody tr th:only-of-type {\n",
       "        vertical-align: middle;\n",
       "    }\n",
       "\n",
       "    .dataframe tbody tr th {\n",
       "        vertical-align: top;\n",
       "    }\n",
       "\n",
       "    .dataframe thead th {\n",
       "        text-align: right;\n",
       "    }\n",
       "</style>\n",
       "<table border=\"1\" class=\"dataframe\">\n",
       "  <thead>\n",
       "    <tr style=\"text-align: right;\">\n",
       "      <th></th>\n",
       "      <th>CH2O</th>\n",
       "      <th>FAF</th>\n",
       "      <th>TUE</th>\n",
       "      <th>CALC</th>\n",
       "      <th>CAEC</th>\n",
       "      <th>FAVC</th>\n",
       "      <th>NCP</th>\n",
       "    </tr>\n",
       "    <tr>\n",
       "      <th>NObeyesdad</th>\n",
       "      <th></th>\n",
       "      <th></th>\n",
       "      <th></th>\n",
       "      <th></th>\n",
       "      <th></th>\n",
       "      <th></th>\n",
       "      <th></th>\n",
       "    </tr>\n",
       "  </thead>\n",
       "  <tbody>\n",
       "    <tr>\n",
       "      <th>Insufficient_Weight</th>\n",
       "      <td>1.871281</td>\n",
       "      <td>1.250131</td>\n",
       "      <td>0.839459</td>\n",
       "      <td>NaN</td>\n",
       "      <td>NaN</td>\n",
       "      <td>NaN</td>\n",
       "      <td>2.914403</td>\n",
       "    </tr>\n",
       "    <tr>\n",
       "      <th>Normal_Weight</th>\n",
       "      <td>1.850174</td>\n",
       "      <td>1.247387</td>\n",
       "      <td>0.675958</td>\n",
       "      <td>NaN</td>\n",
       "      <td>NaN</td>\n",
       "      <td>NaN</td>\n",
       "      <td>2.738676</td>\n",
       "    </tr>\n",
       "    <tr>\n",
       "      <th>Obesity_Type_I</th>\n",
       "      <td>2.112218</td>\n",
       "      <td>0.986748</td>\n",
       "      <td>0.676743</td>\n",
       "      <td>NaN</td>\n",
       "      <td>NaN</td>\n",
       "      <td>NaN</td>\n",
       "      <td>2.431862</td>\n",
       "    </tr>\n",
       "    <tr>\n",
       "      <th>Obesity_Type_II</th>\n",
       "      <td>1.877658</td>\n",
       "      <td>0.971857</td>\n",
       "      <td>0.515186</td>\n",
       "      <td>NaN</td>\n",
       "      <td>NaN</td>\n",
       "      <td>NaN</td>\n",
       "      <td>2.744555</td>\n",
       "    </tr>\n",
       "    <tr>\n",
       "      <th>Obesity_Type_III</th>\n",
       "      <td>2.208493</td>\n",
       "      <td>0.664817</td>\n",
       "      <td>0.604623</td>\n",
       "      <td>NaN</td>\n",
       "      <td>NaN</td>\n",
       "      <td>NaN</td>\n",
       "      <td>3.000000</td>\n",
       "    </tr>\n",
       "    <tr>\n",
       "      <th>Overweight_Level_I</th>\n",
       "      <td>2.058725</td>\n",
       "      <td>1.056796</td>\n",
       "      <td>0.612992</td>\n",
       "      <td>NaN</td>\n",
       "      <td>NaN</td>\n",
       "      <td>NaN</td>\n",
       "      <td>2.504218</td>\n",
       "    </tr>\n",
       "    <tr>\n",
       "      <th>Overweight_Level_II</th>\n",
       "      <td>2.025133</td>\n",
       "      <td>0.958072</td>\n",
       "      <td>0.697275</td>\n",
       "      <td>NaN</td>\n",
       "      <td>NaN</td>\n",
       "      <td>NaN</td>\n",
       "      <td>2.495529</td>\n",
       "    </tr>\n",
       "  </tbody>\n",
       "</table>\n",
       "</div>"
      ],
      "text/plain": [
       "                         CH2O       FAF       TUE  CALC  CAEC  FAVC       NCP\n",
       "NObeyesdad                                                                   \n",
       "Insufficient_Weight  1.871281  1.250131  0.839459   NaN   NaN   NaN  2.914403\n",
       "Normal_Weight        1.850174  1.247387  0.675958   NaN   NaN   NaN  2.738676\n",
       "Obesity_Type_I       2.112218  0.986748  0.676743   NaN   NaN   NaN  2.431862\n",
       "Obesity_Type_II      1.877658  0.971857  0.515186   NaN   NaN   NaN  2.744555\n",
       "Obesity_Type_III     2.208493  0.664817  0.604623   NaN   NaN   NaN  3.000000\n",
       "Overweight_Level_I   2.058725  1.056796  0.612992   NaN   NaN   NaN  2.504218\n",
       "Overweight_Level_II  2.025133  0.958072  0.697275   NaN   NaN   NaN  2.495529"
      ]
     },
     "execution_count": 125,
     "metadata": {},
     "output_type": "execute_result"
    }
   ],
   "source": [
    "grouped_data"
   ]
  },
  {
   "cell_type": "code",
   "execution_count": 127,
   "id": "1f899b5c-c125-41eb-9e7a-940138f1c47e",
   "metadata": {},
   "outputs": [
    {
     "data": {
      "text/plain": [
       "<Figure size 1200x800 with 0 Axes>"
      ]
     },
     "metadata": {},
     "output_type": "display_data"
    },
    {
     "data": {
      "image/png": "[encoded data removed]",
      "text/plain": [
       "<Figure size 1200x600 with 1 Axes>"
      ]
     },
     "metadata": {},
     "output_type": "display_data"
    }
   ],
   "source": [
    "plt.figure(figsize=(12, 8))\n",
    "grouped_data[['CH2O', 'CALC', 'CAEC', 'FAVC', 'NCP']].plot(kind='bar', figsize=(12, 6), colormap=\"viridis\", edgecolor=\"black\")\n",
    "plt.title('Average Dietary Habits Across Obesity Levels', fontsize=16)\n",
    "plt.xlabel('Obesity Levels', fontsize=12)\n",
    "plt.ylabel('Average Value', fontsize=12)\n",
    "plt.xticks(rotation=45, ha='right')\n",
    "plt.tight_layout()\n",
    "plt.show()\n"
   ]
  },
  {
   "cell_type": "code",
   "execution_count": 128,
   "id": "beff37e8-cf97-42ab-ae2e-92ceff8f12c6",
   "metadata": {},
   "outputs": [
    {
     "data": {
      "text/plain": [
       "<Figure size 1200x600 with 0 Axes>"
      ]
     },
     "metadata": {},
     "output_type": "display_data"
    },
    {
     "data": {
      "image/png": "[encoded data removed]",
      "text/plain": [
       "<Figure size 1200x600 with 1 Axes>"
      ]
     },
     "metadata": {},
     "output_type": "display_data"
    }
   ],
   "source": [
    "plt.figure(figsize=(12, 6))\n",
    "grouped_data[['FAF', 'TUE']].plot(kind='bar', figsize=(12, 6), colormap=\"coolwarm\", edgecolor=\"black\")\n",
    "plt.title('Average Physical Activity and Technology Use Across Obesity Levels', fontsize=16)\n",
    "plt.xlabel('Obesity Levels', fontsize=12)\n",
    "plt.ylabel('Average Value', fontsize=12)\n",
    "plt.xticks(rotation=45, ha='right')\n",
    "plt.tight_layout()\n",
    "plt.show()\n",
    "\n"
   ]
  },
  {
   "cell_type": "code",
   "execution_count": null,
   "id": "8a02f6f4-1822-4495-a376-652827210327",
   "metadata": {},
   "outputs": [],
   "source": [
    "#The graph visually demonstrates that individuals with better diet quality tend to have lower obesity rates, especially when combined with higher levels of physical activity. This reinforces the importance of both diet and exercise in managing weight and reducing obesity-related health risks."
   ]
  },
  {
   "cell_type": "markdown",
   "id": "73e23a3c-7c4f-4571-af9c-242b5aebc629",
   "metadata": {},
   "source": [
    "--------------------------------------------------------------------------------------------------------------------------------------------------------"
   ]
  },
  {
   "cell_type": "code",
   "execution_count": null,
   "id": "d81a70f9-f293-4aca-bd32-8bcbb6583ea6",
   "metadata": {},
   "outputs": [],
   "source": []
  }
 ],
 "metadata": {
  "kernelspec": {
   "display_name": "Python 3 (ipykernel)",
   "language": "python",
   "name": "python3"
  },
  "language_info": {
   "codemirror_mode": {
    "name": "ipython",
    "version": 3
   },
   "file_extension": ".py",
   "mimetype": "text/x-python",
   "name": "python",
   "nbconvert_exporter": "python",
   "pygments_lexer": "ipython3",
   "version": "3.12.7"
  }
 },
 "nbformat": 4,
 "nbformat_minor": 5
}
